{
 "cells": [
  {
   "cell_type": "code",
   "execution_count": null,
   "metadata": {},
   "outputs": [],
   "source": [
    "from datasets import load_dataset\n",
    "import pandas as pd\n",
    "import matplotlib.pyplot as plt\n",
    "from dotenv import load_dotenv\n",
    "from openai import OpenAI\n",
    "import os\n",
    "import google.generativeai as genai\n",
    "from sklearn.metrics import accuracy_score, confusion_matrix, classification_report"
   ]
  },
  {
   "cell_type": "code",
   "execution_count": null,
   "metadata": {},
   "outputs": [],
   "source": [
    "dataset = load_dataset(\"glue\", \"sst2\")"
   ]
  },
  {
   "cell_type": "code",
   "execution_count": null,
   "metadata": {},
   "outputs": [],
   "source": [
    "df = pd.DataFrame(dataset[\"train\"])\n",
    "df.head()"
   ]
  },
  {
   "cell_type": "code",
   "execution_count": null,
   "metadata": {},
   "outputs": [],
   "source": [
    "def preprocess_sst_data(df):\n",
    "    df = df.copy()\n",
    "\n",
    "    # mark 0 label as negative and 1 as positive\n",
    "    df['label'] = df['label'].map({0: 'negative', 1: 'positive'})\n",
    "\n",
    "    # remove duplicates\n",
    "    df.drop_duplicates(subset=['sentence'], inplace=True)\n",
    "\n",
    "    # Drop empty tweets (after stripping)\n",
    "    df['sentence'] = df['sentence'].str.strip()\n",
    "    df = df[df['sentence'] != \"\"]\n",
    "\n",
    "    # Convert tweets and sentiment to lowercase and strip whitespace\n",
    "    df['sentence'] = df['sentence'].str.strip().str.lower()\n",
    "    df['label'] = df['label'].str.strip().str.lower()\n",
    "\n",
    "    return df"
   ]
  },
  {
   "cell_type": "code",
   "execution_count": null,
   "metadata": {},
   "outputs": [],
   "source": [
    "df = preprocess_sst_data(df)\n",
    "df.head()\n",
    "len(df)"
   ]
  },
  {
   "cell_type": "code",
   "execution_count": null,
   "metadata": {},
   "outputs": [],
   "source": [
    "plt.figure(figsize=(6, 3))\n",
    "df['label'].value_counts().plot(kind='bar')\n",
    "plt.xlabel('Sentiment')\n",
    "plt.ylabel('Count')\n",
    "plt.title('Sentiment Distribution in SST-2 Dataset')\n",
    "plt.show()"
   ]
  },
  {
   "cell_type": "code",
   "execution_count": null,
   "metadata": {},
   "outputs": [],
   "source": [
    "load_dotenv()\n",
    "client = OpenAI(api_key=os.getenv('OPENAI_API_KEY'))"
   ]
  },
  {
   "cell_type": "code",
   "execution_count": null,
   "metadata": {},
   "outputs": [],
   "source": [
    "def get_sentiment(sentence, no_of_shots=0):\n",
    "    prompt_zero_shot = f\"\"\"Classify the sentiment of the following tweet as positive, or negative.\\nGive only the sentiment as single word output in lowercase. This is a strict requirement.\\nTarget Sentence: \"{sentence}\"\\nSentiment:\"\"\"\n",
    "    \n",
    "    few_shot_examples = \"\"\"Use the following tweets as example for few shot learning. Each example is followed by a sentiment label.\"\"\"\n",
    "\n",
    "    isFewShot = no_of_shots > 0\n",
    "    if no_of_shots:\n",
    "        while no_of_shots:\n",
    "            positive_sample = df[df['label'] == 'positive']['sentence'].sample(1).values[0]\n",
    "            while positive_sample == sentence:\n",
    "                positive_sample = df[df['label'] == 'positive']['sentence'].sample(1).values[0]\n",
    "            negative_sample = df[df['label'] == 'negative']['sentence'].sample(1).values[0]\n",
    "            while negative_sample == sentence:\n",
    "                negative_sample = df[df['label'] == 'negative']['sentence'].sample(1).values[0]\n",
    "            \n",
    "            few_shot_examples += \"\"\"\\nExample: {}\\nSentiment: {}\"\"\".format(positive_sample, 'positive')\n",
    "            few_shot_examples += \"\"\"\\nExample: {}\\nSentiment: {}\"\"\".format(negative_sample, 'negative')\n",
    "            no_of_shots -= 1\n",
    "    \n",
    "    prompt_few_shot = few_shot_examples + \"\\n\"+prompt_zero_shot\n",
    "    response = client.chat.completions.create(\n",
    "        model=\"gpt-4o\",\n",
    "        messages=[{\"role\": \"system\", \"content\": \"You are a sentiment analysis expert.\"},\n",
    "                  {\"role\": \"user\", \"content\": prompt_few_shot if isFewShot else prompt_zero_shot}],\n",
    "        temperature=0\n",
    "    )\n",
    "\n",
    "    sentiment = response.choices[0].message.content.strip()\n",
    "\n",
    "    isPositive =  'positive' in sentiment.lower()\n",
    "    isNegative = \"negative\" in sentiment.lower()\n",
    "\n",
    "    if not isPositive and not isNegative:\n",
    "            if \":\" in sentiment:\n",
    "                sentiment = sentiment.split(\":\")[1].strip()\n",
    "            if \".\" in sentiment:\n",
    "                sentiment = sentiment.split(\".\")[0].strip()\n",
    "            if not sentiment:\n",
    "                sentiment = 'invalid'\n",
    "    # if more than one word in sentiment or sentiment is not in ['positive', 'negative'], mark as invalid\n",
    "    if (isPositive and isNegative):\n",
    "        sentiment = 'invalid'\n",
    "    print(sentence, sentiment)\n",
    "    return sentiment.lower()"
   ]
  },
  {
   "cell_type": "code",
   "execution_count": null,
   "metadata": {},
   "outputs": [],
   "source": [
    "df_sample = pd.read_csv('sst_sample.csv') # replace with your own batched sample"
   ]
  },
  {
   "cell_type": "code",
   "execution_count": null,
   "metadata": {},
   "outputs": [],
   "source": [
    "# zero shot gpt\n",
    "zero_shot_predictions = [get_sentiment(tweet) for tweet in df_sample['sentence']]\n",
    "y_true = df_sample['label'].str.lower()\n",
    "zero_shot_accuracy = accuracy_score(y_true, zero_shot_predictions)\n",
    "print(\"\\nZero-Shot Classification Report:\\n\", classification_report(y_true, zero_shot_predictions, digits=4))\n",
    "print(confusion_matrix(y_true, zero_shot_predictions))"
   ]
  },
  {
   "cell_type": "code",
   "execution_count": null,
   "metadata": {},
   "outputs": [],
   "source": [
    "# one shot gpt\n",
    "one_shot_predictions = [get_sentiment(sentence, no_of_shots=1) for sentence in df_sample['sentence']]\n",
    "y_true = df_sample['label'].str.lower()\n",
    "one_shot_accuracy = accuracy_score(y_true, one_shot_predictions)\n",
    "print(\"\\nAccuracy of one-shot classification on sst2, gpt-4o\", one_shot_accuracy)\n",
    "print(\"\\nZero-Shot Classification Report:\\n\", classification_report(y_true, one_shot_predictions, digits=4))\n",
    "print(confusion_matrix(y_true, one_shot_predictions))"
   ]
  },
  {
   "cell_type": "code",
   "execution_count": null,
   "metadata": {},
   "outputs": [],
   "source": [
    "# three shot gpt\n",
    "three_shot = [get_sentiment(sentence, no_of_shots=3) for sentence in df_sample['sentence']]\n",
    "y_true = df_sample['label'].str.lower()\n",
    "three_shot_accuracy = accuracy_score(y_true, three_shot)\n",
    "print(\"\\nAccuracy of three-shot classification on sst2, gpt-4o\", three_shot_accuracy)\n",
    "print(\"\\nZero-Shot Classification Report:\\n\", classification_report(y_true, three_shot, digits=4))\n",
    "print(confusion_matrix(y_true, three_shot))"
   ]
  },
  {
   "cell_type": "code",
   "execution_count": null,
   "metadata": {},
   "outputs": [],
   "source": [
    "genai.configure(api_key=os.getenv('GEMINI_API_KEY'))"
   ]
  },
  {
   "cell_type": "code",
   "execution_count": null,
   "metadata": {},
   "outputs": [],
   "source": [
    "def get_sentiment_gemini(sentence, no_of_shots=0):\n",
    "    prompt_zero_shot = f\"\"\"Classify the sentiment of the following tweet as positive, or negative.\\nGive only the sentiment as single word output in lowercase. This is a strict requirement.\\nTarget Sentence: \"{sentence}\"\\nSentiment:\"\"\"\n",
    "    \n",
    "    few_shot_examples = \"\"\"Use the following tweets as example for few shot learning. Each example is followed by a sentiment label.\"\"\"\n",
    "\n",
    "    isFewShot = no_of_shots > 0\n",
    "    if no_of_shots:\n",
    "        while no_of_shots:\n",
    "            positive_sample = df[df['label'] == 'positive']['sentence'].sample(1).values[0]\n",
    "            while positive_sample == sentence:\n",
    "                positive_sample = df[df['label'] == 'positive']['sentence'].sample(1).values[0]\n",
    "            negative_sample = df[df['label'] == 'negative']['sentence'].sample(1).values[0]\n",
    "            while negative_sample == sentence:\n",
    "                negative_sample = df[df['label'] == 'negative']['sentence'].sample(1).values[0]\n",
    "            \n",
    "            few_shot_examples += \"\"\"\\nExample: {}\\nSentiment: {}\"\"\".format(positive_sample, 'positive')\n",
    "            few_shot_examples += \"\"\"\\nExample: {}\\nSentiment: {}\"\"\".format(negative_sample, 'negative')\n",
    "            no_of_shots -= 1\n",
    "    \n",
    "    prompt_few_shot = few_shot_examples + \"\\n\"+prompt_zero_shot\n",
    "    \n",
    "    model = genai.GenerativeModel(model_name=\"models/gemini-1.5-pro\")\n",
    "    response = model.generate_content(prompt_few_shot if isFewShot else prompt_zero_shot)\n",
    "    sentiment = response.text.strip().lower()   \n",
    "    \n",
    "\n",
    "    isPositive =  'positive' in sentiment.lower()\n",
    "    isNegative = \"negative\" in sentiment.lower()\n",
    "\n",
    "    if not isPositive and not isNegative:\n",
    "            if \":\" in sentiment:\n",
    "                sentiment = sentiment.split(\":\")[1].strip()\n",
    "            if \".\" in sentiment:\n",
    "                sentiment = sentiment.split(\".\")[0].strip()\n",
    "            if not sentiment:\n",
    "                sentiment = 'invalid'\n",
    "    # if more than one word in sentiment or sentiment is not in ['positive', 'negative'], mark as invalid\n",
    "    if (isPositive and isNegative):\n",
    "        sentiment = 'invalid'\n",
    "    print(sentence, sentiment)\n",
    "    return sentiment.lower()"
   ]
  },
  {
   "cell_type": "code",
   "execution_count": null,
   "metadata": {},
   "outputs": [],
   "source": [
    "# zero shot on gemini\n",
    "zero_shot_predictions = [get_sentiment_gemini(tweet) for tweet in df_sample['sentence']]\n",
    "y_true = df_sample['label'].str.lower()\n",
    "zero_shot_accuracy = accuracy_score(y_true, zero_shot_predictions)\n",
    "print(\"\\nZero-Shot Classification Report:\\n\", classification_report(y_true, zero_shot_predictions, digits=4))\n",
    "print(confusion_matrix(y_true, zero_shot_predictions))"
   ]
  },
  {
   "cell_type": "code",
   "execution_count": null,
   "metadata": {},
   "outputs": [],
   "source": [
    "# one shot gemini\n",
    "one_shot_predictions = [get_sentiment_gemini(sentence, no_of_shots=1) for sentence in df_sample['sentence']]\n",
    "y_true = df_sample['label'].str.lower()\n",
    "one_shot_accuracy = accuracy_score(y_true, one_shot_predictions)\n",
    "print(\"\\nAccuracy of one-shot classification on sst2, gpt-4o\", one_shot_accuracy)\n",
    "print(\"\\nZero-Shot Classification Report:\\n\", classification_report(y_true, one_shot_predictions, digits=4))\n",
    "print(confusion_matrix(y_true, one_shot_predictions))"
   ]
  },
  {
   "cell_type": "code",
   "execution_count": null,
   "metadata": {},
   "outputs": [],
   "source": [
    "# three shot gemini\n",
    "three_shot = [get_sentiment_gemini(sentence, no_of_shots=3) for sentence in df_sample['sentence']]\n",
    "y_true = df_sample['label'].str.lower()\n",
    "three_shot_accuracy = accuracy_score(y_true, three_shot)\n",
    "print(\"\\nAccuracy of three-shot classification on sst2, gpt-4o\", three_shot_accuracy)\n",
    "print(\"\\nZero-Shot Classification Report:\\n\", classification_report(y_true, three_shot, digits=4))\n",
    "print(confusion_matrix(y_true, three_shot))"
   ]
  },
  {
   "cell_type": "code",
   "execution_count": null,
   "metadata": {},
   "outputs": [],
   "source": []
  }
 ],
 "metadata": {
  "kernelspec": {
   "display_name": ".venv",
   "language": "python",
   "name": "python3"
  },
  "language_info": {
   "codemirror_mode": {
    "name": "ipython",
    "version": 3
   },
   "file_extension": ".py",
   "mimetype": "text/x-python",
   "name": "python",
   "nbconvert_exporter": "python",
   "pygments_lexer": "ipython3",
   "version": "3.12.3"
  }
 },
 "nbformat": 4,
 "nbformat_minor": 2
}
